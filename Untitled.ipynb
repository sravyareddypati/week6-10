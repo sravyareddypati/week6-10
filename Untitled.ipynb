{
 "cells": [
  {
   "cell_type": "code",
   "execution_count": 1,
   "id": "2ffc7851",
   "metadata": {},
   "outputs": [],
   "source": [
    "import pandas as pd\n",
    "import numpy as np\n",
    "import warnings"
   ]
  },
  {
   "cell_type": "code",
   "execution_count": 2,
   "id": "88b84a27",
   "metadata": {},
   "outputs": [],
   "source": [
    "warnings.filterwarnings('ignore')"
   ]
  },
  {
   "cell_type": "code",
   "execution_count": 9,
   "id": "5b44d2e6",
   "metadata": {},
   "outputs": [
    {
     "name": "stdout",
     "output_type": "stream",
     "text": [
      "Collecting pgmpy\n",
      "  Using cached pgmpy-0.1.21-py3-none-any.whl (1.9 MB)\n",
      "Collecting statsmodels\n",
      "  Downloading statsmodels-0.12.2-cp36-none-win_amd64.whl (9.3 MB)\n"
     ]
    },
    {
     "name": "stderr",
     "output_type": "stream",
     "text": [
      "WARNING: Retrying (Retry(total=4, connect=None, read=None, redirect=None, status=None)) after connection broken by 'ReadTimeoutError(\"HTTPSConnectionPool(host='pypi.org', port=443): Read timed out. (read timeout=15)\",)': /simple/statsmodels/\n",
      "WARNING: Retrying (Retry(total=3, connect=None, read=None, redirect=None, status=None)) after connection broken by 'ConnectTimeoutError(<pip._vendor.urllib3.connection.HTTPSConnection object at 0x00000223D996DF60>, 'Connection to pypi.org timed out. (connect timeout=15)')': /simple/statsmodels/\n",
      "WARNING: Retrying (Retry(total=2, connect=None, read=None, redirect=None, status=None)) after connection broken by 'ProtocolError('Connection aborted.', ConnectionResetError(10054, 'An existing connection was forcibly closed by the remote host', None, 10054, None))': /simple/statsmodels/\n",
      "ERROR: Exception:\n",
      "Traceback (most recent call last):\n",
      "  File \"c:\\users\\sravyareddypati\\desktop\\django-ecommerce\\test\\lib\\site-packages\\pip\\_vendor\\urllib3\\response.py\", line 438, in _error_catcher\n",
      "    yield\n",
      "  File \"c:\\users\\sravyareddypati\\desktop\\django-ecommerce\\test\\lib\\site-packages\\pip\\_vendor\\urllib3\\response.py\", line 519, in read\n",
      "    data = self._fp.read(amt) if not fp_closed else b\"\"\n",
      "  File \"c:\\users\\sravyareddypati\\desktop\\django-ecommerce\\test\\lib\\site-packages\\pip\\_vendor\\cachecontrol\\filewrapper.py\", line 62, in read\n",
      "    data = self.__fp.read(amt)\n",
      "  File \"C:\\Users\\sravyareddypati\\AppData\\Local\\Programs\\Python\\Python36\\lib\\http\\client.py\", line 449, in read\n",
      "    n = self.readinto(b)\n",
      "  File \"C:\\Users\\sravyareddypati\\AppData\\Local\\Programs\\Python\\Python36\\lib\\http\\client.py\", line 493, in readinto\n",
      "    n = self.fp.readinto(b)\n",
      "  File \"C:\\Users\\sravyareddypati\\AppData\\Local\\Programs\\Python\\Python36\\lib\\socket.py\", line 586, in readinto\n",
      "    return self._sock.recv_into(b)\n",
      "  File \"C:\\Users\\sravyareddypati\\AppData\\Local\\Programs\\Python\\Python36\\lib\\ssl.py\", line 1012, in recv_into\n",
      "    return self.read(nbytes, buffer)\n",
      "  File \"C:\\Users\\sravyareddypati\\AppData\\Local\\Programs\\Python\\Python36\\lib\\ssl.py\", line 874, in read\n",
      "    return self._sslobj.read(len, buffer)\n",
      "  File \"C:\\Users\\sravyareddypati\\AppData\\Local\\Programs\\Python\\Python36\\lib\\ssl.py\", line 631, in read\n",
      "    v = self._sslobj.read(len, buffer)\n",
      "socket.timeout: The read operation timed out\n",
      "\n",
      "During handling of the above exception, another exception occurred:\n",
      "\n",
      "Traceback (most recent call last):\n",
      "  File \"c:\\users\\sravyareddypati\\desktop\\django-ecommerce\\test\\lib\\site-packages\\pip\\_internal\\cli\\base_command.py\", line 164, in exc_logging_wrapper\n",
      "    status = run_func(*args)\n",
      "  File \"c:\\users\\sravyareddypati\\desktop\\django-ecommerce\\test\\lib\\site-packages\\pip\\_internal\\cli\\req_command.py\", line 205, in wrapper\n",
      "    return func(self, options, args)\n",
      "  File \"c:\\users\\sravyareddypati\\desktop\\django-ecommerce\\test\\lib\\site-packages\\pip\\_internal\\commands\\install.py\", line 339, in run\n",
      "    reqs, check_supported_wheels=not options.target_dir\n",
      "  File \"c:\\users\\sravyareddypati\\desktop\\django-ecommerce\\test\\lib\\site-packages\\pip\\_internal\\resolution\\resolvelib\\resolver.py\", line 93, in resolve\n",
      "    collected.requirements, max_rounds=try_to_avoid_resolution_too_deep\n",
      "  File \"c:\\users\\sravyareddypati\\desktop\\django-ecommerce\\test\\lib\\site-packages\\pip\\_vendor\\resolvelib\\resolvers.py\", line 482, in resolve\n",
      "    state = resolution.resolve(requirements, max_rounds=max_rounds)\n",
      "  File \"c:\\users\\sravyareddypati\\desktop\\django-ecommerce\\test\\lib\\site-packages\\pip\\_vendor\\resolvelib\\resolvers.py\", line 374, in resolve\n",
      "    failure_causes = self._attempt_to_pin_criterion(name)\n",
      "  File \"c:\\users\\sravyareddypati\\desktop\\django-ecommerce\\test\\lib\\site-packages\\pip\\_vendor\\resolvelib\\resolvers.py\", line 214, in _attempt_to_pin_criterion\n",
      "    criteria = self._get_updated_criteria(candidate)\n",
      "  File \"c:\\users\\sravyareddypati\\desktop\\django-ecommerce\\test\\lib\\site-packages\\pip\\_vendor\\resolvelib\\resolvers.py\", line 205, in _get_updated_criteria\n",
      "    self._add_to_criteria(criteria, requirement, parent=candidate)\n",
      "  File \"c:\\users\\sravyareddypati\\desktop\\django-ecommerce\\test\\lib\\site-packages\\pip\\_vendor\\resolvelib\\resolvers.py\", line 173, in _add_to_criteria\n",
      "    if not criterion.candidates:\n",
      "  File \"c:\\users\\sravyareddypati\\desktop\\django-ecommerce\\test\\lib\\site-packages\\pip\\_vendor\\resolvelib\\structs.py\", line 151, in __bool__\n",
      "    return bool(self._sequence)\n",
      "  File \"c:\\users\\sravyareddypati\\desktop\\django-ecommerce\\test\\lib\\site-packages\\pip\\_internal\\resolution\\resolvelib\\found_candidates.py\", line 155, in __bool__\n",
      "    return any(self)\n",
      "  File \"c:\\users\\sravyareddypati\\desktop\\django-ecommerce\\test\\lib\\site-packages\\pip\\_internal\\resolution\\resolvelib\\found_candidates.py\", line 143, in <genexpr>\n",
      "    return (c for c in iterator if id(c) not in self._incompatible_ids)\n",
      "  File \"c:\\users\\sravyareddypati\\desktop\\django-ecommerce\\test\\lib\\site-packages\\pip\\_internal\\resolution\\resolvelib\\found_candidates.py\", line 47, in _iter_built\n",
      "    candidate = func()\n",
      "  File \"c:\\users\\sravyareddypati\\desktop\\django-ecommerce\\test\\lib\\site-packages\\pip\\_internal\\resolution\\resolvelib\\factory.py\", line 206, in _make_candidate_from_link\n",
      "    version=version,\n",
      "  File \"c:\\users\\sravyareddypati\\desktop\\django-ecommerce\\test\\lib\\site-packages\\pip\\_internal\\resolution\\resolvelib\\candidates.py\", line 287, in __init__\n",
      "    version=version,\n",
      "  File \"c:\\users\\sravyareddypati\\desktop\\django-ecommerce\\test\\lib\\site-packages\\pip\\_internal\\resolution\\resolvelib\\candidates.py\", line 156, in __init__\n",
      "    self.dist = self._prepare()\n",
      "  File \"c:\\users\\sravyareddypati\\desktop\\django-ecommerce\\test\\lib\\site-packages\\pip\\_internal\\resolution\\resolvelib\\candidates.py\", line 225, in _prepare\n",
      "    dist = self._prepare_distribution()\n",
      "  File \"c:\\users\\sravyareddypati\\desktop\\django-ecommerce\\test\\lib\\site-packages\\pip\\_internal\\resolution\\resolvelib\\candidates.py\", line 292, in _prepare_distribution\n",
      "    return preparer.prepare_linked_requirement(self._ireq, parallel_builds=True)\n",
      "  File \"c:\\users\\sravyareddypati\\desktop\\django-ecommerce\\test\\lib\\site-packages\\pip\\_internal\\operations\\prepare.py\", line 482, in prepare_linked_requirement\n",
      "    return self._prepare_linked_requirement(req, parallel_builds)\n",
      "  File \"c:\\users\\sravyareddypati\\desktop\\django-ecommerce\\test\\lib\\site-packages\\pip\\_internal\\operations\\prepare.py\", line 528, in _prepare_linked_requirement\n",
      "    link, req.source_dir, self._download, self.download_dir, hashes\n",
      "  File \"c:\\users\\sravyareddypati\\desktop\\django-ecommerce\\test\\lib\\site-packages\\pip\\_internal\\operations\\prepare.py\", line 217, in unpack_url\n",
      "    hashes=hashes,\n",
      "  File \"c:\\users\\sravyareddypati\\desktop\\django-ecommerce\\test\\lib\\site-packages\\pip\\_internal\\operations\\prepare.py\", line 94, in get_http_url\n",
      "    from_path, content_type = download(link, temp_dir.path)\n",
      "  File \"c:\\users\\sravyareddypati\\desktop\\django-ecommerce\\test\\lib\\site-packages\\pip\\_internal\\network\\download.py\", line 145, in __call__\n",
      "    for chunk in chunks:\n",
      "  File \"c:\\users\\sravyareddypati\\desktop\\django-ecommerce\\test\\lib\\site-packages\\pip\\_internal\\cli\\progress_bars.py\", line 144, in iter\n",
      "    for x in it:\n",
      "  File \"c:\\users\\sravyareddypati\\desktop\\django-ecommerce\\test\\lib\\site-packages\\pip\\_internal\\network\\utils.py\", line 87, in response_chunks\n",
      "    decode_content=False,\n",
      "  File \"c:\\users\\sravyareddypati\\desktop\\django-ecommerce\\test\\lib\\site-packages\\pip\\_vendor\\urllib3\\response.py\", line 576, in stream\n",
      "    data = self.read(amt=amt, decode_content=decode_content)\n",
      "  File \"c:\\users\\sravyareddypati\\desktop\\django-ecommerce\\test\\lib\\site-packages\\pip\\_vendor\\urllib3\\response.py\", line 541, in read\n",
      "    raise IncompleteRead(self._fp_bytes_read, self.length_remaining)\n",
      "  File \"C:\\Users\\sravyareddypati\\AppData\\Local\\Programs\\Python\\Python36\\lib\\contextlib.py\", line 99, in __exit__\n",
      "    self.gen.throw(type, value, traceback)\n",
      "  File \"c:\\users\\sravyareddypati\\desktop\\django-ecommerce\\test\\lib\\site-packages\\pip\\_vendor\\urllib3\\response.py\", line 443, in _error_catcher\n",
      "    raise ReadTimeoutError(self._pool, None, \"Read timed out.\")\n",
      "pip._vendor.urllib3.exceptions.ReadTimeoutError: HTTPSConnectionPool(host='files.pythonhosted.org', port=443): Read timed out.\n"
     ]
    },
    {
     "name": "stdout",
     "output_type": "stream",
     "text": [
      "Collecting bayespy\n",
      "  Using cached bayespy-0.5.25.tar.gz (401 kB)\n",
      "  Preparing metadata (setup.py): started\n",
      "  Preparing metadata (setup.py): finished with status 'done'\n",
      "Requirement already satisfied: numpy>=1.10.0 in c:\\users\\sravyareddypati\\desktop\\django-ecommerce\\test\\lib\\site-packages (from bayespy) (1.19.5)\n",
      "Requirement already satisfied: scipy>=0.13.0 in c:\\users\\sravyareddypati\\desktop\\django-ecommerce\\test\\lib\\site-packages (from bayespy) (1.5.4)\n",
      "Collecting h5py\n",
      "  Downloading h5py-3.1.0-cp36-cp36m-win_amd64.whl (2.7 MB)\n"
     ]
    },
    {
     "name": "stderr",
     "output_type": "stream",
     "text": [
      "ERROR: Exception:\n",
      "Traceback (most recent call last):\n",
      "  File \"c:\\users\\sravyareddypati\\desktop\\django-ecommerce\\test\\lib\\site-packages\\pip\\_vendor\\urllib3\\response.py\", line 438, in _error_catcher\n",
      "    yield\n",
      "  File \"c:\\users\\sravyareddypati\\desktop\\django-ecommerce\\test\\lib\\site-packages\\pip\\_vendor\\urllib3\\response.py\", line 519, in read\n",
      "    data = self._fp.read(amt) if not fp_closed else b\"\"\n",
      "  File \"c:\\users\\sravyareddypati\\desktop\\django-ecommerce\\test\\lib\\site-packages\\pip\\_vendor\\cachecontrol\\filewrapper.py\", line 62, in read\n",
      "    data = self.__fp.read(amt)\n",
      "  File \"C:\\Users\\sravyareddypati\\AppData\\Local\\Programs\\Python\\Python36\\lib\\http\\client.py\", line 449, in read\n",
      "    n = self.readinto(b)\n",
      "  File \"C:\\Users\\sravyareddypati\\AppData\\Local\\Programs\\Python\\Python36\\lib\\http\\client.py\", line 493, in readinto\n",
      "    n = self.fp.readinto(b)\n",
      "  File \"C:\\Users\\sravyareddypati\\AppData\\Local\\Programs\\Python\\Python36\\lib\\socket.py\", line 586, in readinto\n",
      "    return self._sock.recv_into(b)\n",
      "  File \"C:\\Users\\sravyareddypati\\AppData\\Local\\Programs\\Python\\Python36\\lib\\ssl.py\", line 1012, in recv_into\n",
      "    return self.read(nbytes, buffer)\n",
      "  File \"C:\\Users\\sravyareddypati\\AppData\\Local\\Programs\\Python\\Python36\\lib\\ssl.py\", line 874, in read\n",
      "    return self._sslobj.read(len, buffer)\n",
      "  File \"C:\\Users\\sravyareddypati\\AppData\\Local\\Programs\\Python\\Python36\\lib\\ssl.py\", line 631, in read\n",
      "    v = self._sslobj.read(len, buffer)\n",
      "socket.timeout: The read operation timed out\n",
      "\n",
      "During handling of the above exception, another exception occurred:\n",
      "\n",
      "Traceback (most recent call last):\n",
      "  File \"c:\\users\\sravyareddypati\\desktop\\django-ecommerce\\test\\lib\\site-packages\\pip\\_internal\\cli\\base_command.py\", line 164, in exc_logging_wrapper\n",
      "    status = run_func(*args)\n",
      "  File \"c:\\users\\sravyareddypati\\desktop\\django-ecommerce\\test\\lib\\site-packages\\pip\\_internal\\cli\\req_command.py\", line 205, in wrapper\n",
      "    return func(self, options, args)\n",
      "  File \"c:\\users\\sravyareddypati\\desktop\\django-ecommerce\\test\\lib\\site-packages\\pip\\_internal\\commands\\install.py\", line 339, in run\n",
      "    reqs, check_supported_wheels=not options.target_dir\n",
      "  File \"c:\\users\\sravyareddypati\\desktop\\django-ecommerce\\test\\lib\\site-packages\\pip\\_internal\\resolution\\resolvelib\\resolver.py\", line 93, in resolve\n",
      "    collected.requirements, max_rounds=try_to_avoid_resolution_too_deep\n",
      "  File \"c:\\users\\sravyareddypati\\desktop\\django-ecommerce\\test\\lib\\site-packages\\pip\\_vendor\\resolvelib\\resolvers.py\", line 482, in resolve\n",
      "    state = resolution.resolve(requirements, max_rounds=max_rounds)\n",
      "  File \"c:\\users\\sravyareddypati\\desktop\\django-ecommerce\\test\\lib\\site-packages\\pip\\_vendor\\resolvelib\\resolvers.py\", line 374, in resolve\n",
      "    failure_causes = self._attempt_to_pin_criterion(name)\n",
      "  File \"c:\\users\\sravyareddypati\\desktop\\django-ecommerce\\test\\lib\\site-packages\\pip\\_vendor\\resolvelib\\resolvers.py\", line 214, in _attempt_to_pin_criterion\n",
      "    criteria = self._get_updated_criteria(candidate)\n",
      "  File \"c:\\users\\sravyareddypati\\desktop\\django-ecommerce\\test\\lib\\site-packages\\pip\\_vendor\\resolvelib\\resolvers.py\", line 205, in _get_updated_criteria\n",
      "    self._add_to_criteria(criteria, requirement, parent=candidate)\n",
      "  File \"c:\\users\\sravyareddypati\\desktop\\django-ecommerce\\test\\lib\\site-packages\\pip\\_vendor\\resolvelib\\resolvers.py\", line 173, in _add_to_criteria\n",
      "    if not criterion.candidates:\n",
      "  File \"c:\\users\\sravyareddypati\\desktop\\django-ecommerce\\test\\lib\\site-packages\\pip\\_vendor\\resolvelib\\structs.py\", line 151, in __bool__\n",
      "    return bool(self._sequence)\n",
      "  File \"c:\\users\\sravyareddypati\\desktop\\django-ecommerce\\test\\lib\\site-packages\\pip\\_internal\\resolution\\resolvelib\\found_candidates.py\", line 155, in __bool__\n",
      "    return any(self)\n",
      "  File \"c:\\users\\sravyareddypati\\desktop\\django-ecommerce\\test\\lib\\site-packages\\pip\\_internal\\resolution\\resolvelib\\found_candidates.py\", line 143, in <genexpr>\n",
      "    return (c for c in iterator if id(c) not in self._incompatible_ids)\n",
      "  File \"c:\\users\\sravyareddypati\\desktop\\django-ecommerce\\test\\lib\\site-packages\\pip\\_internal\\resolution\\resolvelib\\found_candidates.py\", line 47, in _iter_built\n",
      "    candidate = func()\n",
      "  File \"c:\\users\\sravyareddypati\\desktop\\django-ecommerce\\test\\lib\\site-packages\\pip\\_internal\\resolution\\resolvelib\\factory.py\", line 206, in _make_candidate_from_link\n",
      "    version=version,\n",
      "  File \"c:\\users\\sravyareddypati\\desktop\\django-ecommerce\\test\\lib\\site-packages\\pip\\_internal\\resolution\\resolvelib\\candidates.py\", line 287, in __init__\n",
      "    version=version,\n",
      "  File \"c:\\users\\sravyareddypati\\desktop\\django-ecommerce\\test\\lib\\site-packages\\pip\\_internal\\resolution\\resolvelib\\candidates.py\", line 156, in __init__\n",
      "    self.dist = self._prepare()\n",
      "  File \"c:\\users\\sravyareddypati\\desktop\\django-ecommerce\\test\\lib\\site-packages\\pip\\_internal\\resolution\\resolvelib\\candidates.py\", line 225, in _prepare\n",
      "    dist = self._prepare_distribution()\n",
      "  File \"c:\\users\\sravyareddypati\\desktop\\django-ecommerce\\test\\lib\\site-packages\\pip\\_internal\\resolution\\resolvelib\\candidates.py\", line 292, in _prepare_distribution\n",
      "    return preparer.prepare_linked_requirement(self._ireq, parallel_builds=True)\n",
      "  File \"c:\\users\\sravyareddypati\\desktop\\django-ecommerce\\test\\lib\\site-packages\\pip\\_internal\\operations\\prepare.py\", line 482, in prepare_linked_requirement\n",
      "    return self._prepare_linked_requirement(req, parallel_builds)\n",
      "  File \"c:\\users\\sravyareddypati\\desktop\\django-ecommerce\\test\\lib\\site-packages\\pip\\_internal\\operations\\prepare.py\", line 528, in _prepare_linked_requirement\n",
      "    link, req.source_dir, self._download, self.download_dir, hashes\n",
      "  File \"c:\\users\\sravyareddypati\\desktop\\django-ecommerce\\test\\lib\\site-packages\\pip\\_internal\\operations\\prepare.py\", line 217, in unpack_url\n",
      "    hashes=hashes,\n",
      "  File \"c:\\users\\sravyareddypati\\desktop\\django-ecommerce\\test\\lib\\site-packages\\pip\\_internal\\operations\\prepare.py\", line 94, in get_http_url\n",
      "    from_path, content_type = download(link, temp_dir.path)\n",
      "  File \"c:\\users\\sravyareddypati\\desktop\\django-ecommerce\\test\\lib\\site-packages\\pip\\_internal\\network\\download.py\", line 145, in __call__\n",
      "    for chunk in chunks:\n",
      "  File \"c:\\users\\sravyareddypati\\desktop\\django-ecommerce\\test\\lib\\site-packages\\pip\\_internal\\cli\\progress_bars.py\", line 144, in iter\n",
      "    for x in it:\n",
      "  File \"c:\\users\\sravyareddypati\\desktop\\django-ecommerce\\test\\lib\\site-packages\\pip\\_internal\\network\\utils.py\", line 87, in response_chunks\n",
      "    decode_content=False,\n",
      "  File \"c:\\users\\sravyareddypati\\desktop\\django-ecommerce\\test\\lib\\site-packages\\pip\\_vendor\\urllib3\\response.py\", line 576, in stream\n",
      "    data = self.read(amt=amt, decode_content=decode_content)\n",
      "  File \"c:\\users\\sravyareddypati\\desktop\\django-ecommerce\\test\\lib\\site-packages\\pip\\_vendor\\urllib3\\response.py\", line 541, in read\n",
      "    raise IncompleteRead(self._fp_bytes_read, self.length_remaining)\n",
      "  File \"C:\\Users\\sravyareddypati\\AppData\\Local\\Programs\\Python\\Python36\\lib\\contextlib.py\", line 99, in __exit__\n",
      "    self.gen.throw(type, value, traceback)\n",
      "  File \"c:\\users\\sravyareddypati\\desktop\\django-ecommerce\\test\\lib\\site-packages\\pip\\_vendor\\urllib3\\response.py\", line 443, in _error_catcher\n",
      "    raise ReadTimeoutError(self._pool, None, \"Read timed out.\")\n",
      "pip._vendor.urllib3.exceptions.ReadTimeoutError: HTTPSConnectionPool(host='files.pythonhosted.org', port=443): Read timed out.\n"
     ]
    }
   ],
   "source": [
    "!pip install pgmpy\n",
    "!pip install bayespy"
   ]
  },
  {
   "cell_type": "code",
   "execution_count": 11,
   "id": "10d59998",
   "metadata": {},
   "outputs": [],
   "source": [
    "heart_disease=pd.read_csv('heart.csv')"
   ]
  },
  {
   "cell_type": "code",
   "execution_count": 7,
   "id": "9f69bf58",
   "metadata": {},
   "outputs": [
    {
     "name": "stdout",
     "output_type": "stream",
     "text": [
      "      age  sex  cp  trestbps  chol  fbs  restecg  thalach  exang  oldpeak  \\\n",
      "0      52    1   0       125   212    0        1      168      0      1.0   \n",
      "1      53    1   0       140   203    1        0      155      1      3.1   \n",
      "2      70    1   0       145   174    0        1      125      1      2.6   \n",
      "3      61    1   0       148   203    0        1      161      0      0.0   \n",
      "4      62    0   0       138   294    1        1      106      0      1.9   \n",
      "...   ...  ...  ..       ...   ...  ...      ...      ...    ...      ...   \n",
      "1020   59    1   1       140   221    0        1      164      1      0.0   \n",
      "1021   60    1   0       125   258    0        0      141      1      2.8   \n",
      "1022   47    1   0       110   275    0        0      118      1      1.0   \n",
      "1023   50    0   0       110   254    0        0      159      0      0.0   \n",
      "1024   54    1   0       120   188    0        1      113      0      1.4   \n",
      "\n",
      "      slope  ca  thal  target  \n",
      "0         2   2     3       0  \n",
      "1         0   0     3       0  \n",
      "2         0   0     3       0  \n",
      "3         2   1     3       0  \n",
      "4         1   3     2       0  \n",
      "...     ...  ..   ...     ...  \n",
      "1020      2   0     2       1  \n",
      "1021      1   1     3       0  \n",
      "1022      1   1     2       0  \n",
      "1023      2   0     2       1  \n",
      "1024      1   1     3       0  \n",
      "\n",
      "[1025 rows x 14 columns]\n"
     ]
    }
   ],
   "source": [
    "print(heart_disease)"
   ]
  },
  {
   "cell_type": "code",
   "execution_count": 12,
   "id": "024b0a65",
   "metadata": {},
   "outputs": [
    {
     "name": "stdout",
     "output_type": "stream",
     "text": [
      "Columns in the dataset are\n"
     ]
    }
   ],
   "source": [
    "print('Columns in the dataset are')"
   ]
  },
  {
   "cell_type": "code",
   "execution_count": 14,
   "id": "0010311d",
   "metadata": {},
   "outputs": [
    {
     "name": "stdout",
     "output_type": "stream",
     "text": [
      "age\n",
      "sex\n",
      "cp\n",
      "trestbps\n",
      "chol\n",
      "fbs\n",
      "restecg\n",
      "thalach\n",
      "exang\n",
      "oldpeak\n",
      "slope\n",
      "ca\n",
      "thal\n",
      "target\n"
     ]
    }
   ],
   "source": [
    "for col in heart_disease.columns:\n",
    "    print(col)"
   ]
  },
  {
   "cell_type": "code",
   "execution_count": 15,
   "id": "83833266",
   "metadata": {},
   "outputs": [
    {
     "ename": "ModuleNotFoundError",
     "evalue": "No module named 'pgmpy'",
     "output_type": "error",
     "traceback": [
      "\u001b[1;31m---------------------------------------------------------------------------\u001b[0m",
      "\u001b[1;31mModuleNotFoundError\u001b[0m                       Traceback (most recent call last)",
      "\u001b[1;32m<ipython-input-15-e7776d214cfe>\u001b[0m in \u001b[0;36m<module>\u001b[1;34m\u001b[0m\n\u001b[1;32m----> 1\u001b[1;33m \u001b[1;32mfrom\u001b[0m \u001b[0mpgmpy\u001b[0m\u001b[1;33m.\u001b[0m\u001b[0mmodels\u001b[0m \u001b[1;32mimport\u001b[0m \u001b[0mbayesianModel\u001b[0m\u001b[1;33m\u001b[0m\u001b[1;33m\u001b[0m\u001b[0m\n\u001b[0m\u001b[0;32m      2\u001b[0m \u001b[1;32mfrom\u001b[0m \u001b[0mpgmpy\u001b[0m\u001b[1;33m.\u001b[0m\u001b[0mestimators\u001b[0m \u001b[1;32mimport\u001b[0m \u001b[0mMaximumLikelihoodEstimator\u001b[0m\u001b[1;33m\u001b[0m\u001b[1;33m\u001b[0m\u001b[0m\n",
      "\u001b[1;31mModuleNotFoundError\u001b[0m: No module named 'pgmpy'"
     ]
    }
   ],
   "source": [
    "from pgmpy.models import bayesianModel\n",
    "from pgmpy.estimators import MaximumLikelihoodEstimator"
   ]
  },
  {
   "cell_type": "code",
   "execution_count": null,
   "id": "27652321",
   "metadata": {},
   "outputs": [],
   "source": []
  }
 ],
 "metadata": {
  "kernelspec": {
   "display_name": "Python 3",
   "language": "python",
   "name": "python3"
  },
  "language_info": {
   "codemirror_mode": {
    "name": "ipython",
    "version": 3
   },
   "file_extension": ".py",
   "mimetype": "text/x-python",
   "name": "python",
   "nbconvert_exporter": "python",
   "pygments_lexer": "ipython3",
   "version": "3.6.8"
  }
 },
 "nbformat": 4,
 "nbformat_minor": 5
}
